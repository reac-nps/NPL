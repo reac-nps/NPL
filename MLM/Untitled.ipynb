{
 "cells": [
  {
   "cell_type": "code",
   "execution_count": 1,
   "metadata": {},
   "outputs": [],
   "source": [
    "from ase.db import connect\n",
    "from Core.BaseNanoparticle import BaseNanoparticle as BN\n",
    "from Core.GlobalFeatureClassifier import TwoBodyClusterExpansion\n",
    "\n",
    "db = connect('/home/riccardo/RepoGit/DataSet/updata_db.db')\n",
    "\n",
    "dataset = db.select(tbce_mds = True)\n",
    "\n",
    "bn_dataset = []\n",
    "for f in dataset:\n",
    "    bn = BN()\n",
    "    atoms = f.toatoms()\n",
    "    bn.add_atoms(atoms)\n",
    "    TwoBodyClusterExpansion(['Au', 'Pt']).compute_feature_vector(bn)\n",
    "    bn.set_energy('EMT', f.energy)\n",
    "    "
   ]
  },
  {
   "cell_type": "code",
   "execution_count": 5,
   "metadata": {},
   "outputs": [
    {
     "ename": "ImportError",
     "evalue": "cannot import name 'TwoBodyClusterExpansion' from 'Core.GlobalFeatureClassifier' (/home/riccardo/RepoGit/NPL/Core/GlobalFeatureClassifier.py)",
     "output_type": "error",
     "traceback": [
      "\u001b[0;31m---------------------------------------------------------------------------\u001b[0m",
      "\u001b[0;31mImportError\u001b[0m                               Traceback (most recent call last)",
      "\u001b[0;32m<ipython-input-5-dd1fb63bd716>\u001b[0m in \u001b[0;36m<module>\u001b[0;34m\u001b[0m\n\u001b[0;32m----> 1\u001b[0;31m \u001b[0;32mfrom\u001b[0m \u001b[0mCore\u001b[0m\u001b[0;34m.\u001b[0m\u001b[0mGlobalFeatureClassifier\u001b[0m \u001b[0;32mimport\u001b[0m \u001b[0mTwoBodyClusterExpansion\u001b[0m\u001b[0;34m\u001b[0m\u001b[0;34m\u001b[0m\u001b[0m\n\u001b[0m\u001b[1;32m      2\u001b[0m \u001b[0;32mfrom\u001b[0m \u001b[0mCore\u001b[0m\u001b[0;34m.\u001b[0m\u001b[0mEnergyCalculator\u001b[0m \u001b[0;32mimport\u001b[0m \u001b[0mBayesianRRCalculator\u001b[0m\u001b[0;34m\u001b[0m\u001b[0;34m\u001b[0m\u001b[0m\n\u001b[1;32m      3\u001b[0m \u001b[0;34m\u001b[0m\u001b[0m\n\u001b[1;32m      4\u001b[0m \u001b[0mTwoBodyClusterExpansion\u001b[0m\u001b[0;34m(\u001b[0m\u001b[0;34m[\u001b[0m\u001b[0;34m'Au'\u001b[0m\u001b[0;34m,\u001b[0m \u001b[0;34m'Pt'\u001b[0m\u001b[0;34m]\u001b[0m\u001b[0;34m)\u001b[0m\u001b[0;34m.\u001b[0m\u001b[0mcompute_feature_vector\u001b[0m\u001b[0;34m(\u001b[0m\u001b[0mbn\u001b[0m\u001b[0;34m)\u001b[0m\u001b[0;34m\u001b[0m\u001b[0;34m\u001b[0m\u001b[0m\n",
      "\u001b[0;31mImportError\u001b[0m: cannot import name 'TwoBodyClusterExpansion' from 'Core.GlobalFeatureClassifier' (/home/riccardo/RepoGit/NPL/Core/GlobalFeatureClassifier.py)"
     ]
    }
   ],
   "source": [
    "from Core.EnergyCalculator import BayesianRRCalculator\n",
    "\n",
    "calc_BRR = BayesianRRCalculator('TBCE')#\n",
    "calc_BRR.fit(training_set, 'EMT')\n",
    "coef = calc_BRR.get_coefficients()"
   ]
  },
  {
   "cell_type": "code",
   "execution_count": 12,
   "metadata": {},
   "outputs": [],
   "source": [
    "dataset_TBCE = [atomrow.data.TBCE for atomrow in db.select(tbce_mds = True)]\n"
   ]
  },
  {
   "cell_type": "code",
   "execution_count": 4,
   "metadata": {},
   "outputs": [],
   "source": [
    "import numpy as np\n",
    "from ase.db import connect\n",
    "from Core.BaseNanoparticle import BaseNanoparticle as BN\n",
    "from Core.GlobalFeatureClassifier import TwoBodyClusterExpansion\n",
    "\n",
    "db = connect('/home/riccardo/RepoGit/DataSet/updata_db.db')\n",
    "dataset_TBCE = [atomrow.data.TBCE for atomrow in db.select(tbce_mds = True)]\n",
    "mat = np.empty((1000,94))"
   ]
  },
  {
   "cell_type": "code",
   "execution_count": 16,
   "metadata": {},
   "outputs": [],
   "source": [
    "for f in range(len(dataset_TBCE)):\n",
    "    mat[:,f] = dataset_TBCE[f]\n",
    "    "
   ]
  },
  {
   "cell_type": "code",
   "execution_count": 27,
   "metadata": {},
   "outputs": [
    {
     "name": "stdout",
     "output_type": "stream",
     "text": [
      "entries eliminated [88 25 69 76 73 11] rank 88 columns 88\n",
      "entries eliminated [21 78 10 27 39 29] rank 88 columns 88\n",
      "entries eliminated [69 17 87 35 41 32] rank 87 columns 88\n",
      "entries eliminated [55 41 87 21 71 86] rank 88 columns 88\n",
      "entries eliminated [15 20 39 19 63 46] rank 86 columns 88\n",
      "entries eliminated [10 52 32 39 16 27] rank 88 columns 88\n",
      "entries eliminated [21 48 65 86  7 93] rank 88 columns 88\n",
      "entries eliminated [57 36 49 67  4 81] rank 88 columns 88\n",
      "entries eliminated [72  3 75 67 19 59] rank 88 columns 88\n",
      "entries eliminated [46  8  7 18 63 90] rank 87 columns 88\n"
     ]
    }
   ],
   "source": [
    "for _ in range(10):\n",
    "    x = mat\n",
    "    randoms = np.random.choice(range(94), 6)\n",
    "    x = np.delete(mat, (randoms), axis=0)\n",
    "    #if np.linalg.matrix_rank(x) == 90:\n",
    "    print('entries eliminated',randoms , 'rank' ,np.linalg.matrix_rank(x), 'columns',len(x))"
   ]
  },
  {
   "cell_type": "code",
   "execution_count": 13,
   "metadata": {},
   "outputs": [
    {
     "data": {
      "text/plain": [
       "(94, 1000)"
      ]
     },
     "execution_count": 13,
     "metadata": {},
     "output_type": "execute_result"
    }
   ],
   "source": [
    "mat.shape"
   ]
  },
  {
   "cell_type": "code",
   "execution_count": 14,
   "metadata": {},
   "outputs": [
    {
     "data": {
      "text/plain": [
       "(88, 1000)"
      ]
     },
     "execution_count": 14,
     "metadata": {},
     "output_type": "execute_result"
    }
   ],
   "source": [
    "x.shape"
   ]
  },
  {
   "cell_type": "code",
   "execution_count": 25,
   "metadata": {},
   "outputs": [
    {
     "data": {
      "text/plain": [
       "88"
      ]
     },
     "execution_count": 25,
     "metadata": {},
     "output_type": "execute_result"
    }
   ],
   "source": [
    "np.linalg.matrix_rank(mat)"
   ]
  },
  {
   "cell_type": "code",
   "execution_count": null,
   "metadata": {},
   "outputs": [],
   "source": []
  }
 ],
 "metadata": {
  "kernelspec": {
   "display_name": "Python 3",
   "language": "python",
   "name": "python3"
  },
  "language_info": {
   "codemirror_mode": {
    "name": "ipython",
    "version": 3
   },
   "file_extension": ".py",
   "mimetype": "text/x-python",
   "name": "python",
   "nbconvert_exporter": "python",
   "pygments_lexer": "ipython3",
   "version": "3.8.5"
  }
 },
 "nbformat": 4,
 "nbformat_minor": 4
}
